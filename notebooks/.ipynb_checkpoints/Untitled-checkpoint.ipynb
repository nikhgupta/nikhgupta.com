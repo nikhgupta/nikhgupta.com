{
 "cells": [
  {
   "cell_type": "code",
   "execution_count": 8,
   "id": "86fba8d4",
   "metadata": {
    "ExecuteTime": {
     "end_time": "2024-03-04T12:44:55.660445Z",
     "start_time": "2024-03-04T12:44:55.620Z"
    }
   },
   "outputs": [
    {
     "data": {
      "text/plain": [
       "\u001b[33m10000\u001b[39m"
      ]
     },
     "execution_count": 8,
     "metadata": {},
     "output_type": "execute_result"
    }
   ],
   "source": [
    "import { readJsonSync, writeJsonSync } from \"https://deno.land/std@0.52.0/fs/mod.ts\";\n",
    "import {useMode, modeOklch, modeRgb, formatHex, displayable } from 'npm:culori/fn'\n",
    "\n",
    "const rgb = useMode(modeRgb);\n",
    "const oklch = useMode(modeOklch);\n",
    "const oklchToRgb = function(l, c, h) {\n",
    "    const color = rgb(oklch({\"l\": l, \"c\": c, \"h\": h}));\n",
    "    if (displayable(color)) return formatHex(color);\n",
    "}\n",
    "\n",
    "const hr = Array.from({ length: 360 }, (_, i) => i);\n",
    "const cr = Array.from({ length: 4000}, (_, i) => i/10000);\n",
    "const lr = Array.from({ length: 10000}, (_, i) => 1 - i/10000);\n",
    "\n",
    "const invalidHue = function(l, c) {\n",
    "    for (let h of hr) {\n",
    "        const color = oklchToRgb(l, c, h)\n",
    "        if (!color) return [l, c, h];\n",
    "    }\n",
    "    return [];\n",
    "}\n",
    "\n",
    "// we should be able to speed this up using bisection,\n",
    "// but that would not give optimal results.\n",
    "// Moreover, the calculation will be cached, anyway.\n",
    "const maxChroma = function(l) {\n",
    "    let prev = 0;\n",
    "    for (let c of cr) {\n",
    "        const invalid = invalidHue(l, c)\n",
    "        if (invalid.length > 0) {\n",
    "            return [prev, invalid];\n",
    "        }\n",
    "        prev = c\n",
    "    }\n",
    "}\n",
    "\n",
    "const cachedLCMap = function(path) {\n",
    "    const mappedLC = function() {\n",
    "        const map = {}\n",
    "        for (let l of lr) {\n",
    "            const res = maxChroma(l);\n",
    "            const ls = Math.round(parseFloat(l)*10000)/10000\n",
    "            map[ls] = res.length > 0 ? res[0] : 0;\n",
    "        }\n",
    "        return map\n",
    "    }\n",
    "    \n",
    "    let map = readJsonSync(path, 'utf8');\n",
    "    if (map && Object.entries(map).length > 0) return map;\n",
    "    \n",
    "    console.log(\"caculating boundaries..\")\n",
    "    map = mappedLC();\n",
    "    writeJsonSync(path, map, 'utf8');\n",
    "    return map;\n",
    "}\n",
    "\n",
    "const map = cachedLCMap(\"../src/routes/colors/mapping.json\");\n",
    "Object.entries(map).length"
   ]
  },
  {
   "cell_type": "code",
   "execution_count": 9,
   "id": "53730232",
   "metadata": {
    "ExecuteTime": {
     "end_time": "2024-03-04T12:44:55.966922Z",
     "start_time": "2024-03-04T12:44:55.912Z"
    }
   },
   "outputs": [
    {
     "name": "stdout",
     "output_type": "stream",
     "text": [
      "#12c4bd [ \u001b[33m0.014\u001b[39m, [ \u001b[33m0.97\u001b[39m, \u001b[33m0.0141\u001b[39m, \u001b[33m263\u001b[39m ] ]\n"
     ]
    }
   ],
   "source": [
    "const c = oklchToRgb(0.7422, 0.1262, 190);\n",
    "const maxC = maxChroma(0.97)\n",
    "console.log(c, maxC)"
   ]
  },
  {
   "cell_type": "code",
   "execution_count": null,
   "id": "ddc9fa55",
   "metadata": {},
   "outputs": [],
   "source": []
  }
 ],
 "metadata": {
  "kernelspec": {
   "display_name": "Deno",
   "language": "typescript",
   "name": "deno"
  },
  "language_info": {
   "file_extension": ".ts",
   "mimetype": "text/x.typescript",
   "name": "typescript",
   "nb_converter": "script",
   "pygments_lexer": "typescript",
   "version": "5.3.3"
  }
 },
 "nbformat": 4,
 "nbformat_minor": 5
}
